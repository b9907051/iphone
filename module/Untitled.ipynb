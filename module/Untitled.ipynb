{
 "cells": [
  {
   "cell_type": "code",
   "execution_count": null,
   "metadata": {},
   "outputs": [],
   "source": [
    "import csv\n",
    "import pandas as pd\n",
    "\n",
    "# Todo: 分別讀取Tmall以及中關村的資料\n",
    "# with open('../static/data/Tmall.csv', newline='') as csvfile:\n",
    "#     rows = csv.reader(csvfile)\n",
    "#     for row in rows:\n",
    "#         print(row)\n",
    "Tmall = pd.read_csv(\"../static/data/Tmall.csv\",encoding = \"utf-8\")\n",
    "\n",
    "Zhongguancun = pd.read_csv(\"../static/data/Zhongguancun.csv\",encoding = \"utf-8\")\n",
    "\n",
    "#TODO SUM DEALNUMBER GROUP BY TIMESTAMP PRODUCT\n",
    "# as_index = False 可以幫我補足 groupby 自動幫我做分組的欄位\n",
    "Tmall_group = Tmall.groupby(['Timestamp','Product'], as_index=False).sum()\n",
    "\n",
    "Tmall_group.to_dict('records')\n",
    "\n",
    "list(Tmall_group.columns) "
   ]
  }
 ],
 "metadata": {
  "kernelspec": {
   "display_name": "Python 3",
   "language": "python",
   "name": "python3"
  },
  "language_info": {
   "codemirror_mode": {
    "name": "ipython",
    "version": 3
   },
   "file_extension": ".py",
   "mimetype": "text/x-python",
   "name": "python",
   "nbconvert_exporter": "python",
   "pygments_lexer": "ipython3",
   "version": "3.7.3"
  }
 },
 "nbformat": 4,
 "nbformat_minor": 2
}
