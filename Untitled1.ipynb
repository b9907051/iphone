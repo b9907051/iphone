{
 "cells": [
  {
   "cell_type": "code",
   "execution_count": 7,
   "metadata": {},
   "outputs": [],
   "source": [
    "import pandas as pd\n",
    "from datetime import datetime,date,timedelta\n",
    "data = pd.read_csv('static/data/Data.csv')\n",
    "\n",
    "# 要篩出來的國家及產品\n",
    "data = data[data['Country'].isin(['Us','Jp','Cn','De','Fr'])]\n",
    "data = data[data['Product'].isin(['iPhone 12 Pro Max','iPhone 12 Pro','iPhone 12','iPhone 12 mini'])]\n",
    "data = data[data['Colors'].isin(['Silver'])]\n",
    "data = data[data['Size'].isin(['128GB','256GB'])]\n",
    "\n",
    "\n",
    "today = date.today() - timedelta(days=0)\n",
    "yesterday = date.today() - timedelta(days=7)\n",
    "df_today = data[data['TimeStemp'] == today.strftime(\"%Y-%m-%d\")]\n",
    "df_yesterday = data[data['TimeStemp'] == yesterday.strftime(\"%Y-%m-%d\")]\n",
    " \n",
    "new = pd.concat([df_today , df_yesterday])\n",
    "new_changedate = new.replace({'TimeStemp':yesterday.strftime(\"%Y-%m-%d\")},today.strftime(\"%Y-%m-%d\"))\n",
    "new_changedate.drop_duplicates(keep = False,inplace=True)\n",
    "\n",
    "\n",
    "# 把修改的時間 利用index不變的狀態 將原本的時間套回來\n",
    "new_changedate['TimeStemp'] = new['TimeStemp']\n",
    "# 因為在python 的判斷式裡我們如果想要去比對 nan==nan 他總是給我們false\n",
    "new_changedate.fillna(0,inplace = True)\n",
    "# new_changedate.to_csv('test.csv',encoding='utf_8_sig', index=False)\n"
   ]
  },
  {
   "cell_type": "code",
   "execution_count": 8,
   "metadata": {},
   "outputs": [],
   "source": [
    "new_changedate_dict = new_changedate.to_dict(orient = 'record')\n",
    "tot_index = [ i for i in range(int(len(new_changedate_dict)))]\n",
    "middle_index = int(len(tot_index)/2)\n",
    "# middle_index = 45\n",
    "back_index = tot_index[middle_index:]"
   ]
  },
  {
   "cell_type": "code",
   "execution_count": 3,
   "metadata": {},
   "outputs": [
    {
     "data": {
      "text/plain": [
       "20"
      ]
     },
     "execution_count": 3,
     "metadata": {},
     "output_type": "execute_result"
    }
   ],
   "source": [
    "middle_index"
   ]
  },
  {
   "cell_type": "code",
   "execution_count": 35,
   "metadata": {},
   "outputs": [],
   "source": [
    "text = []\n",
    "table = []\n",
    "res = {}\n",
    "key_to_be_deleted = ['Celluar','TimeStemp']\n",
    "for i in tot_index:\n",
    "    temp = {}\n",
    "    temp['Country'] = new_changedate_dict[i]['Country']\n",
    "    temp['Product'] = new_changedate_dict[i]['Product']\n",
    "    temp['Celluar'] = new_changedate_dict[i]['Celluar']\n",
    "    temp['Size'] = new_changedate_dict[i]['Size']\n",
    "    temp['Colors'] = new_changedate_dict[i]['Colors']\n",
    "    temp['TimeStemp'] = new_changedate_dict[i]['TimeStemp']\n",
    "    temp['Deliver_after'] = new_changedate_dict[i]['Deliver']\n",
    "    for j in back_index:\n",
    "        if (new_changedate_dict[j]['Country'] == temp['Country']\n",
    "        and new_changedate_dict[j]['Product'] == temp['Product']\n",
    "        and new_changedate_dict[j]['Celluar'] == temp['Celluar']\n",
    "        and new_changedate_dict[j]['Size'] == temp['Size']\n",
    "        and new_changedate_dict[j]['Colors'] == temp['Colors']\n",
    "        and new_changedate_dict[j]['TimeStemp'] != temp['TimeStemp']) :\n",
    "            \n",
    "            temp['Deliver_before'] = new_changedate_dict[j]['Deliver']\n",
    "            # 刪除掉我們不要的key(欄位)\n",
    "            for key in key_to_be_deleted:\n",
    "                del temp[key]\n",
    "            table.append(temp)\n",
    "            break\n",
    "    # 刪除不要的 key\n",
    "\n",
    "#     temp = {key: value for key, value in temp.items()\\\n",
    "#           if key is not key_to_be_deleted}\n",
    "\n",
    "    \n",
    "\n",
    "# text = list( dict.fromkeys(text) )"
   ]
  },
  {
   "cell_type": "code",
   "execution_count": 36,
   "metadata": {
    "scrolled": true
   },
   "outputs": [
    {
     "data": {
      "text/plain": [
       "[{'Country': 'Cn',\n",
       "  'Product': 'iPhone 12 Pro',\n",
       "  'Size': '128GB',\n",
       "  'Colors': 'Silver',\n",
       "  'Deliver_after': '2-3 周',\n",
       "  'Deliver_before': '3-4 周'},\n",
       " {'Country': 'Cn',\n",
       "  'Product': 'iPhone 12 Pro',\n",
       "  'Size': '256GB',\n",
       "  'Colors': 'Silver',\n",
       "  'Deliver_after': '2-3 周',\n",
       "  'Deliver_before': '3-4 周'},\n",
       " {'Country': 'De',\n",
       "  'Product': 'iPhone 12 Pro',\n",
       "  'Size': '128GB',\n",
       "  'Colors': 'Silver',\n",
       "  'Deliver_after': '2–3 Wochen',\n",
       "  'Deliver_before': '3–4 Wochen'},\n",
       " {'Country': 'De',\n",
       "  'Product': 'iPhone 12 Pro',\n",
       "  'Size': '256GB',\n",
       "  'Colors': 'Silver',\n",
       "  'Deliver_after': '2–3 Wochen',\n",
       "  'Deliver_before': '3–4 Wochen'},\n",
       " {'Country': 'Fr',\n",
       "  'Product': 'iPhone 12 Pro',\n",
       "  'Size': '128GB',\n",
       "  'Colors': 'Silver',\n",
       "  'Deliver_after': '2 à 3 semaines',\n",
       "  'Deliver_before': '3 à 4 semaines'},\n",
       " {'Country': 'Fr',\n",
       "  'Product': 'iPhone 12 Pro',\n",
       "  'Size': '256GB',\n",
       "  'Colors': 'Silver',\n",
       "  'Deliver_after': '2 à 3 semaines',\n",
       "  'Deliver_before': '3 à 4 semaines'},\n",
       " {'Country': 'Jp',\n",
       "  'Product': 'iPhone 12',\n",
       "  'Size': '128GB',\n",
       "  'Colors': 'Silver',\n",
       "  'Deliver_after': '2020/11/07 - 2020/11/11 – 送料無料',\n",
       "  'Deliver_before': '2020/11/03 - 2020/11/06 – 送料無料'},\n",
       " {'Country': 'Jp',\n",
       "  'Product': 'iPhone 12',\n",
       "  'Size': '256GB',\n",
       "  'Colors': 'Silver',\n",
       "  'Deliver_after': '2020/11/07 - 2020/11/11 – 送料無料',\n",
       "  'Deliver_before': '2020/11/03 - 2020/11/06 – 送料無料'}]"
      ]
     },
     "execution_count": 36,
     "metadata": {},
     "output_type": "execute_result"
    }
   ],
   "source": [
    "table"
   ]
  },
  {
   "cell_type": "code",
   "execution_count": 24,
   "metadata": {},
   "outputs": [
    {
     "data": {
      "text/plain": [
       "{(('Country', 'Cn'),\n",
       "  ('Product', 'iPhone 12 Pro'),\n",
       "  ('Size', '128GB'),\n",
       "  ('Colors', 'Silver'),\n",
       "  ('Deliver_after', '2-3 周'),\n",
       "  ('Deliver_before', '3-4 周'))}"
      ]
     },
     "execution_count": 24,
     "metadata": {},
     "output_type": "execute_result"
    }
   ],
   "source": [
    "{tuple(table[0].items())}"
   ]
  },
  {
   "cell_type": "code",
   "execution_count": 37,
   "metadata": {},
   "outputs": [
    {
     "data": {
      "text/plain": [
       "[(('Country', 'Jp'),\n",
       "  ('Product', 'iPhone 12'),\n",
       "  ('Size', '128GB'),\n",
       "  ('Colors', 'Silver'),\n",
       "  ('Deliver_after', '2020/11/07 - 2020/11/11 – 送料無料'),\n",
       "  ('Deliver_before', '2020/11/03 - 2020/11/06 – 送料無料')),\n",
       " (('Country', 'Fr'),\n",
       "  ('Product', 'iPhone 12 Pro'),\n",
       "  ('Size', '128GB'),\n",
       "  ('Colors', 'Silver'),\n",
       "  ('Deliver_after', '2 à 3 semaines'),\n",
       "  ('Deliver_before', '3 à 4 semaines')),\n",
       " (('Country', 'Cn'),\n",
       "  ('Product', 'iPhone 12 Pro'),\n",
       "  ('Size', '256GB'),\n",
       "  ('Colors', 'Silver'),\n",
       "  ('Deliver_after', '2-3 周'),\n",
       "  ('Deliver_before', '3-4 周')),\n",
       " (('Country', 'Cn'),\n",
       "  ('Product', 'iPhone 12 Pro'),\n",
       "  ('Size', '128GB'),\n",
       "  ('Colors', 'Silver'),\n",
       "  ('Deliver_after', '2-3 周'),\n",
       "  ('Deliver_before', '3-4 周')),\n",
       " (('Country', 'Jp'),\n",
       "  ('Product', 'iPhone 12'),\n",
       "  ('Size', '256GB'),\n",
       "  ('Colors', 'Silver'),\n",
       "  ('Deliver_after', '2020/11/07 - 2020/11/11 – 送料無料'),\n",
       "  ('Deliver_before', '2020/11/03 - 2020/11/06 – 送料無料')),\n",
       " (('Country', 'Fr'),\n",
       "  ('Product', 'iPhone 12 Pro'),\n",
       "  ('Size', '256GB'),\n",
       "  ('Colors', 'Silver'),\n",
       "  ('Deliver_after', '2 à 3 semaines'),\n",
       "  ('Deliver_before', '3 à 4 semaines')),\n",
       " (('Country', 'De'),\n",
       "  ('Product', 'iPhone 12 Pro'),\n",
       "  ('Size', '128GB'),\n",
       "  ('Colors', 'Silver'),\n",
       "  ('Deliver_after', '2–3 Wochen'),\n",
       "  ('Deliver_before', '3–4 Wochen')),\n",
       " (('Country', 'De'),\n",
       "  ('Product', 'iPhone 12 Pro'),\n",
       "  ('Size', '256GB'),\n",
       "  ('Colors', 'Silver'),\n",
       "  ('Deliver_after', '2–3 Wochen'),\n",
       "  ('Deliver_before', '3–4 Wochen'))]"
      ]
     },
     "execution_count": 37,
     "metadata": {},
     "output_type": "execute_result"
    }
   ],
   "source": [
    "# 刪除同樣的字典 有很多產品的運送日期變化都一樣但細項不一樣 這樣資訊太多我們留下一個就好讓使用者自己去看什麼改變了\n",
    "# 所以這裡我們把她都刪掉\n",
    "# ex:iPhone12,Us,128G,5-6Week ; iPhone12,Us,256G,5-6Week\n",
    "#用tuple包dictionary.items() 就可以進行 illiterate\n",
    "table2 = [t for t in {tuple(d.items()) for d in table}]\n",
    "table2"
   ]
  },
  {
   "cell_type": "code",
   "execution_count": 11,
   "metadata": {},
   "outputs": [],
   "source": [
    "table = pd.DataFrame(table2)\n",
    "table = table[['Country','Product','Size','Colors','Deliver_before','Deliver_after']]\n",
    "table = table.sort_values(by=['Country'])\n",
    "sorter = ['Us','Cn','Jp','De','Fr']\n",
    "table['Country'] = table['Country'].astype(\"category\")\n",
    "table['Country'].cat.set_categories(sorter, inplace=True)\n",
    "\n",
    "# sorter = ['iPhone 12 Pro','iPhone 12','iPhone 12 mini']\n",
    "# table['Size'] = table['Size'].astype(\"category\")\n",
    "# table['Size'].cat.set_categories(sorter, inplace=True)\n",
    "\n",
    "# table = table.sort_values(['Country'])\n",
    "table.sort_values(['Country','Product','Size'], ascending=[True,False, True], inplace=True)\n"
   ]
  },
  {
   "cell_type": "code",
   "execution_count": 13,
   "metadata": {},
   "outputs": [
    {
     "name": "stdout",
     "output_type": "stream",
     "text": [
      "successfully sent  email\n"
     ]
    }
   ],
   "source": [
    "import smtplib\n",
    "from email.mime.multipart import MIMEMultipart\n",
    "from email.mime.text import MIMEText\n",
    "from email.mime.base import MIMEBase\n",
    "from email import encoders\n",
    "import getpass\n",
    "import time\n",
    "import sys\n",
    "import os\n",
    "import platform\n",
    "from pretty_html_table import build_table\n",
    "msg = MIMEMultipart()\n",
    "msg['From'] = 'layx@cathaylife.com.tw'\n",
    "# passwd = getpass.getpass(colors.OKGREEN + 'Password: ')\n",
    "passwd = 'Lay9821529'\n",
    "msg['To'] = 'layx@cathaylife.com.tw'\n",
    "# 'wthuang@cathaylife.com.tw'\n",
    "# ;jalinyang@cathaylife.com.tw'\n",
    "# jalinyang@cathaylife.com.tw'\n",
    "to = msg['TO'].split(\";\")\n",
    "msg['subject'] = \"iphone異動更新\"\n",
    "\n",
    "# body = table.to_html(classes=\"table table-striped table-hover\",index=False)\n",
    "\n",
    "body = build_table(table, 'blue_light')\n",
    "msg.attach(MIMEText(body, 'html'))\n",
    "\n",
    "s = smtplib.SMTP('cathaymail.linyuan.com.tw', 25)\n",
    "s.starttls()\n",
    "s.login(msg['From'], passwd)\n",
    "\n",
    "context = msg.as_string()\n",
    "\n",
    "\n",
    "s.sendmail(msg['From'], to, context)\n",
    "print( 'successfully sent  email')\n",
    "s.close()\n"
   ]
  }
 ],
 "metadata": {
  "kernelspec": {
   "display_name": "Python 3",
   "language": "python",
   "name": "python3"
  },
  "language_info": {
   "codemirror_mode": {
    "name": "ipython",
    "version": 3
   },
   "file_extension": ".py",
   "mimetype": "text/x-python",
   "name": "python",
   "nbconvert_exporter": "python",
   "pygments_lexer": "ipython3",
   "version": "3.7.3"
  }
 },
 "nbformat": 4,
 "nbformat_minor": 2
}
