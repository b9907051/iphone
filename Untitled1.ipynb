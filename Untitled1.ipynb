{
 "cells": [
  {
   "cell_type": "code",
   "execution_count": 5,
   "metadata": {},
   "outputs": [
    {
     "name": "stdout",
     "output_type": "stream",
     "text": [
      "{'Deliver': '1–2 weeks'}\n"
     ]
    }
   ],
   "source": [
    "\n",
    "#apple test\n",
    "import requests\n",
    "import json\n",
    "d = {}\n",
    "Model = 'MX9P2LL/A'\n",
    "url = 'https://www.apple.com/shop/delivery-message?parts.0=%s&little=true' % ( Model )\n",
    "r = requests.get(url)\n",
    "response = json.loads(r.text)\n",
    "\n",
    "d['Deliver'] = response['body']['content']['deliveryMessage'][Model]['deliveryOptionMessages'][0]\n",
    "print(d)"
   ]
  }
 ],
 "metadata": {
  "kernelspec": {
   "display_name": "Python 3",
   "language": "python",
   "name": "python3"
  },
  "language_info": {
   "codemirror_mode": {
    "name": "ipython",
    "version": 3
   },
   "file_extension": ".py",
   "mimetype": "text/x-python",
   "name": "python",
   "nbconvert_exporter": "python",
   "pygments_lexer": "ipython3",
   "version": "3.7.3"
  }
 },
 "nbformat": 4,
 "nbformat_minor": 2
}
